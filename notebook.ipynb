{
 "cells": [
  {
   "cell_type": "markdown",
   "metadata": {
    "id": "H9wADwK78DCz"
   },
   "source": [
    "# Proyek Analisis Data: PRSA_Data_Nongzhanguan_20130301-20170228.csv\n",
    "- **Nama:** Joshua Kresna Kusmono\n",
    "- **Email:** kusmonoj@gmail.com\n",
    "- **ID Dicoding:** jshkrsna"
   ]
  },
  {
   "cell_type": "markdown",
   "metadata": {
    "id": "eE0raob58DC0"
   },
   "source": [
    "## Menentukan Pertanyaan Bisnis"
   ]
  },
  {
   "cell_type": "markdown",
   "metadata": {
    "id": "GmQeQ5YF8DC0"
   },
   "source": [
    "1. Bagaimana tren kualitas udara di sekitar stasiun Nongzhanguan berdasarkan bulan? Dan di bulan berapa polusi udara terjadi kenaikan dan penurunan secara signifikan?\n",
    "2. Bagaimana kecepatan angin mempengaruhi tingkat polusi udara?"
   ]
  },
  {
   "cell_type": "markdown",
   "metadata": {
    "id": "H-z4QGlO8DC1"
   },
   "source": [
    "## Import Semua Packages/Library yang Digunakan"
   ]
  },
  {
   "cell_type": "code",
   "execution_count": 29,
   "metadata": {
    "id": "FVYwaObI8DC1"
   },
   "outputs": [],
   "source": [
    "import pandas as pd\n",
    "import matplotlib.pyplot as plt\n",
    "import seaborn as sb"
   ]
  },
  {
   "cell_type": "markdown",
   "metadata": {
    "id": "h_Sh51Xy8DC1"
   },
   "source": [
    "## Data Wrangling"
   ]
  },
  {
   "cell_type": "markdown",
   "metadata": {
    "id": "sXU2GBYu8DC1"
   },
   "source": [
    "### Gathering Data"
   ]
  },
  {
   "cell_type": "code",
   "execution_count": 30,
   "metadata": {
    "id": "ZibZymwzoToG"
   },
   "outputs": [],
   "source": [
    "air_quality_nongzhanguan_df = pd.read_csv('./data/PRSA_Data_Nongzhanguan_20130301-20170228.csv')"
   ]
  },
  {
   "cell_type": "markdown",
   "metadata": {
    "id": "MMi6xGaDkbCi"
   },
   "source": [
    "**Insight:**\n",
    "- Mengambil dataset dari Github tentang kualitas udara dari statiun Nongzhanguan, China."
   ]
  },
  {
   "cell_type": "markdown",
   "metadata": {
    "id": "FHSiqaZp8DC1"
   },
   "source": [
    "### Assessing Data"
   ]
  },
  {
   "cell_type": "code",
   "execution_count": 31,
   "metadata": {
    "colab": {
     "base_uri": "https://localhost:8080/"
    },
    "id": "ax-3tEjc9Cj1",
    "outputId": "d12d46ae-0bc9-44a3-eea1-b6525350d802"
   },
   "outputs": [
    {
     "name": "stdout",
     "output_type": "stream",
     "text": [
      "Value data yang hilang:\n",
      " No            0\n",
      "year          0\n",
      "month         0\n",
      "day           0\n",
      "hour          0\n",
      "PM2.5       628\n",
      "PM10        440\n",
      "SO2         446\n",
      "NO2         692\n",
      "CO         1206\n",
      "O3          506\n",
      "TEMP         20\n",
      "PRES         20\n",
      "DEWP         20\n",
      "RAIN         20\n",
      "wd           78\n",
      "WSPM         14\n",
      "station       0\n",
      "dtype: int64\n"
     ]
    }
   ],
   "source": [
    "# mencari value data yang hilang\n",
    "print(f\"Value data yang hilang:\\n\", air_quality_nongzhanguan_df.isna().sum())"
   ]
  },
  {
   "cell_type": "code",
   "execution_count": 32,
   "metadata": {
    "colab": {
     "base_uri": "https://localhost:8080/"
    },
    "id": "GpXxtprLvKde",
    "outputId": "3e091b26-d487-44db-9e3f-0278e0edcedb"
   },
   "outputs": [
    {
     "name": "stdout",
     "output_type": "stream",
     "text": [
      "Jumlah data yang terduplikat: 0 data\n"
     ]
    }
   ],
   "source": [
    "# mencari data yang terduplikat\n",
    "print(\"Jumlah data yang terduplikat:\", air_quality_nongzhanguan_df.duplicated().sum(), \"data\")"
   ]
  },
  {
   "cell_type": "code",
   "execution_count": 33,
   "metadata": {
    "colab": {
     "base_uri": "https://localhost:8080/"
    },
    "id": "8dad_8d6vzQP",
    "outputId": "ef00066b-676e-4872-e819-1cf3cade4693"
   },
   "outputs": [
    {
     "name": "stdout",
     "output_type": "stream",
     "text": [
      "                 No          year         month           day          hour  \\\n",
      "count  35064.000000  35064.000000  35064.000000  35064.000000  35064.000000   \n",
      "mean   17532.500000   2014.662560      6.522930     15.729637     11.500000   \n",
      "std    10122.249256      1.177213      3.448752      8.800218      6.922285   \n",
      "min        1.000000   2013.000000      1.000000      1.000000      0.000000   \n",
      "25%     8766.750000   2014.000000      4.000000      8.000000      5.750000   \n",
      "50%    17532.500000   2015.000000      7.000000     16.000000     11.500000   \n",
      "75%    26298.250000   2016.000000     10.000000     23.000000     17.250000   \n",
      "max    35064.000000   2017.000000     12.000000     31.000000     23.000000   \n",
      "\n",
      "              PM2.5          PM10           SO2           NO2            CO  \\\n",
      "count  34436.000000  34624.000000  34618.000000  34372.000000  33858.000000   \n",
      "mean      84.838483    108.991096     18.689242     58.097172   1324.350198   \n",
      "std       86.225344     95.341177     24.280665     36.297740   1245.166124   \n",
      "min        2.000000      2.000000      0.571200      2.000000    100.000000   \n",
      "25%       22.000000     38.000000      3.000000     29.000000    500.000000   \n",
      "50%       59.000000     85.000000      9.000000     51.000000    900.000000   \n",
      "75%      116.000000    149.000000     23.000000     80.000000   1600.000000   \n",
      "max      844.000000    995.000000    257.000000    273.000000  10000.000000   \n",
      "\n",
      "                 O3          TEMP          PRES          DEWP          RAIN  \\\n",
      "count  34558.000000  35044.000000  35044.000000  35044.000000  35044.000000   \n",
      "mean      58.534682     13.671490   1012.547419      2.447535      0.064020   \n",
      "std       58.401448     11.458418     10.266059     13.810696      0.786282   \n",
      "min        0.214200    -16.800000    987.100000    -35.300000      0.000000   \n",
      "25%       10.000000      3.100000   1004.000000     -8.800000      0.000000   \n",
      "50%       45.000000     14.600000   1012.200000      3.000000      0.000000   \n",
      "75%       84.000000     23.500000   1020.900000     15.000000      0.000000   \n",
      "max      390.000000     41.100000   1042.000000     28.800000     46.400000   \n",
      "\n",
      "               WSPM  \n",
      "count  35050.000000  \n",
      "mean       1.860785  \n",
      "std        1.280368  \n",
      "min        0.000000  \n",
      "25%        1.000000  \n",
      "50%        1.500000  \n",
      "75%        2.400000  \n",
      "max       10.500000  \n"
     ]
    }
   ],
   "source": [
    "# mencari ketidakakuratan value\n",
    "print(air_quality_nongzhanguan_df.describe())"
   ]
  },
  {
   "cell_type": "code",
   "execution_count": 34,
   "metadata": {
    "colab": {
     "base_uri": "https://localhost:8080/"
    },
    "id": "GL5mxvHuytcR",
    "outputId": "e60bd651-9e04-4f13-dc9d-09fc0f9dd25d"
   },
   "outputs": [
    {
     "name": "stdout",
     "output_type": "stream",
     "text": [
      "<class 'pandas.core.frame.DataFrame'>\n",
      "RangeIndex: 35064 entries, 0 to 35063\n",
      "Data columns (total 18 columns):\n",
      " #   Column   Non-Null Count  Dtype  \n",
      "---  ------   --------------  -----  \n",
      " 0   No       35064 non-null  int64  \n",
      " 1   year     35064 non-null  int64  \n",
      " 2   month    35064 non-null  int64  \n",
      " 3   day      35064 non-null  int64  \n",
      " 4   hour     35064 non-null  int64  \n",
      " 5   PM2.5    34436 non-null  float64\n",
      " 6   PM10     34624 non-null  float64\n",
      " 7   SO2      34618 non-null  float64\n",
      " 8   NO2      34372 non-null  float64\n",
      " 9   CO       33858 non-null  float64\n",
      " 10  O3       34558 non-null  float64\n",
      " 11  TEMP     35044 non-null  float64\n",
      " 12  PRES     35044 non-null  float64\n",
      " 13  DEWP     35044 non-null  float64\n",
      " 14  RAIN     35044 non-null  float64\n",
      " 15  wd       34986 non-null  object \n",
      " 16  WSPM     35050 non-null  float64\n",
      " 17  station  35064 non-null  object \n",
      "dtypes: float64(11), int64(5), object(2)\n",
      "memory usage: 4.8+ MB\n",
      "None\n"
     ]
    }
   ],
   "source": [
    "# mendeteksi value yang tidak valid\n",
    "print(air_quality_nongzhanguan_df.info())"
   ]
  },
  {
   "cell_type": "markdown",
   "metadata": {
    "id": "7dtxhAPrkhPL"
   },
   "source": [
    "**Insight:**\n",
    "- Di bagian value yang hilang, tercatat:\n",
    "  - PM2.5 ada 628 data hilang\n",
    "  - PM10 ada 440 data hilang\n",
    "  - SO2 ada 446 data hilang\n",
    "  - NO2 ada 692 data hilang\n",
    "  - CO ada 1206 data hilang\n",
    "  - O3 ada 506 data hilang\n",
    "  - TEMP ada 20 data hilang\n",
    "  - PRES ada 20 data hilang\n",
    "  - DEWP ada 20 data hilang\n",
    "  - RAIN ada 20 data hilang\n",
    "  - WD ada 78 data hilang\n",
    "  - WSPM ada 14 data hilang\n",
    "- Di bagian data yang terduplikat, tercatat bahwa tidak ada data yang terduplikasi.\n",
    "- Di bagian ketidakakuratan value, tercatat:\n",
    "  - PM2.5 memiliki nilai max yang tidak wajar yaitu sebesar 844, yang mana jauh dari 75% yaitu sebesar 116.\n",
    "  - PM10 memiliki nilai max yang tidak wajar yaitu sebesar 995, yang mana jauh dari 75% yaitu sebesar 149.\n",
    "  - SO2 memiliki nilai max yang tidak wajar yaitu sebesar 257, yang mana jauh dari 75% yaitu sebesar 273.\n",
    "  - CO memiliki nilai max yang tidak wajar yaitu sebesar 10000, yang mana jauh dari 75% yaitu sebesar 1600.\n",
    "  - O3 memiliki nilai max yang tidak wajar yaitu sebesar 390, yang mana jauh dari 75% yaitu sebesar 84.\n",
    "  - RAIN memiliki nilai max yang tidak wajar yaitu sebesar 46.4, yang mana jauh dari 75% yaitu 0.\n",
    "  - WSPM (wind speed) memiliki nilai yang max yang tidak wajar sebesar 10.5, yang mana jauh dari 75% yaitu sebesar 2.4.\n",
    "- Di bagian value yang tidak valid, semua tipe data valid."
   ]
  },
  {
   "cell_type": "markdown",
   "metadata": {
    "id": "EhN5R4hr8DC1"
   },
   "source": [
    "### Cleaning Data"
   ]
  },
  {
   "cell_type": "code",
   "execution_count": 35,
   "metadata": {
    "colab": {
     "base_uri": "https://localhost:8080/"
    },
    "id": "jVnYpprE9Evz",
    "outputId": "9cc7f386-b8b6-4041-e4b7-09aadd42b876"
   },
   "outputs": [
    {
     "name": "stderr",
     "output_type": "stream",
     "text": [
      "/tmp/ipykernel_12746/4014344022.py:5: FutureWarning: A value is trying to be set on a copy of a DataFrame or Series through chained assignment using an inplace method.\n",
      "The behavior will change in pandas 3.0. This inplace method will never work because the intermediate object on which we are setting values always behaves as a copy.\n",
      "\n",
      "For example, when doing 'df[col].method(value, inplace=True)', try using 'df.method({col: value}, inplace=True)' or df[col] = df[col].method(value) instead, to perform the operation inplace on the original object.\n",
      "\n",
      "\n",
      "  air_quality_nongzhanguan_df[column].interpolate(\n",
      "/tmp/ipykernel_12746/4014344022.py:12: FutureWarning: A value is trying to be set on a copy of a DataFrame or Series through chained assignment using an inplace method.\n",
      "The behavior will change in pandas 3.0. This inplace method will never work because the intermediate object on which we are setting values always behaves as a copy.\n",
      "\n",
      "For example, when doing 'df[col].method(value, inplace=True)', try using 'df.method({col: value}, inplace=True)' or df[col] = df[col].method(value) instead, to perform the operation inplace on the original object.\n",
      "\n",
      "\n",
      "  air_quality_nongzhanguan_df['wd'].interpolate(\n",
      "/tmp/ipykernel_12746/4014344022.py:12: FutureWarning: Series.interpolate with method=ffill is deprecated and will raise in a future version. Use obj.ffill() or obj.bfill() instead.\n",
      "  air_quality_nongzhanguan_df['wd'].interpolate(\n"
     ]
    }
   ],
   "source": [
    "# interpolasi kolom numerik yang tercatat ada data yang hilang\n",
    "numeric_columns = ['PM2.5', 'PM10', 'SO2', 'NO2', 'CO', 'O3', 'TEMP', 'PRES', 'DEWP', 'RAIN', 'WSPM']\n",
    "\n",
    "for column in numeric_columns:\n",
    "  air_quality_nongzhanguan_df[column].interpolate(\n",
    "      method='linear', # metode linear\n",
    "      limit_direction='forward', # mengisi nilai ke depan\n",
    "      inplace=True\n",
    "  )\n",
    "\n",
    "# interpolasi kolom non numerik yang tercatat ada data yang hilang\n",
    "air_quality_nongzhanguan_df['wd'].interpolate(\n",
    "    method='ffill', # mengisi dengan metode nilai ke depan\n",
    "    inplace=True\n",
    ")"
   ]
  },
  {
   "cell_type": "code",
   "execution_count": 36,
   "metadata": {
    "colab": {
     "base_uri": "https://localhost:8080/"
    },
    "id": "3tNWft-yM1J7",
    "outputId": "df43fd58-d841-4c09-d1c5-119ef5fe14b2"
   },
   "outputs": [
    {
     "name": "stdout",
     "output_type": "stream",
     "text": [
      "Value data yang hilang:\n",
      " No         0\n",
      "year       0\n",
      "month      0\n",
      "day        0\n",
      "hour       0\n",
      "PM2.5      0\n",
      "PM10       0\n",
      "SO2        0\n",
      "NO2        0\n",
      "CO         0\n",
      "O3         0\n",
      "TEMP       0\n",
      "PRES       0\n",
      "DEWP       0\n",
      "RAIN       0\n",
      "wd         0\n",
      "WSPM       0\n",
      "station    0\n",
      "dtype: int64\n"
     ]
    }
   ],
   "source": [
    "# jumlah value data yang hilang setelah dilakukan interpolasi\n",
    "print(f\"Value data yang hilang:\\n\", air_quality_nongzhanguan_df.isna().sum())"
   ]
  },
  {
   "cell_type": "code",
   "execution_count": 37,
   "metadata": {
    "colab": {
     "base_uri": "https://localhost:8080/"
    },
    "id": "HWojNAlIYRPX",
    "outputId": "4a93d1a0-6f7c-4c57-fb80-9ae60ef353a0"
   },
   "outputs": [
    {
     "name": "stdout",
     "output_type": "stream",
     "text": [
      "<class 'pandas.core.frame.DataFrame'>\n",
      "RangeIndex: 35064 entries, 0 to 35063\n",
      "Data columns (total 18 columns):\n",
      " #   Column   Non-Null Count  Dtype  \n",
      "---  ------   --------------  -----  \n",
      " 0   No       35064 non-null  int64  \n",
      " 1   year     35064 non-null  int64  \n",
      " 2   month    35064 non-null  int64  \n",
      " 3   day      35064 non-null  int64  \n",
      " 4   hour     35064 non-null  int64  \n",
      " 5   PM2.5    35064 non-null  float64\n",
      " 6   PM10     35064 non-null  float64\n",
      " 7   SO2      35064 non-null  float64\n",
      " 8   NO2      35064 non-null  float64\n",
      " 9   CO       35064 non-null  float64\n",
      " 10  O3       35064 non-null  float64\n",
      " 11  TEMP     35064 non-null  float64\n",
      " 12  PRES     35064 non-null  float64\n",
      " 13  DEWP     35064 non-null  float64\n",
      " 14  RAIN     35064 non-null  float64\n",
      " 15  wd       35064 non-null  object \n",
      " 16  WSPM     35064 non-null  float64\n",
      " 17  station  35064 non-null  object \n",
      "dtypes: float64(11), int64(5), object(2)\n",
      "memory usage: 4.8+ MB\n",
      "None\n"
     ]
    }
   ],
   "source": [
    "# jumlah data setelah dilakukan interpolasi\n",
    "print(air_quality_nongzhanguan_df.info())"
   ]
  },
  {
   "cell_type": "code",
   "execution_count": 38,
   "metadata": {
    "colab": {
     "base_uri": "https://localhost:8080/"
    },
    "id": "gtFpIAlDdpK4",
    "outputId": "b3a00f82-8ea8-41da-e9bd-0687ddbb507b"
   },
   "outputs": [
    {
     "name": "stdout",
     "output_type": "stream",
     "text": [
      "['PM2.5', 'PM10', 'SO2', 'NO2', 'CO', 'O3', 'TEMP', 'PRES', 'DEWP', 'RAIN', 'WSPM']\n"
     ]
    }
   ],
   "source": [
    "print(numeric_columns)"
   ]
  },
  {
   "cell_type": "code",
   "execution_count": 39,
   "metadata": {
    "id": "TnY0zzM3OMHh"
   },
   "outputs": [],
   "source": [
    "# membuat batas bawah/Q1 dan batas atas/Q3 untuk mencapai hasil kuartil dengan pengurangan dari batas atas dan batas bawah\n",
    "Q1 = (air_quality_nongzhanguan_df[numeric_columns]).quantile(0.25)\n",
    "Q3 = (air_quality_nongzhanguan_df[numeric_columns]).quantile(0.75)\n",
    "IQR = Q3 - Q1\n",
    "\n",
    "# karena yang dicari nilai outlier, maka yang digunakan hanya maximum\n",
    "nilai_maximum = Q3 + (1.5*IQR)\n",
    "\n",
    "# membuat logika perbandingan semua data yang ada di kolom numerik dengan nilai batas atas\n",
    "kondisi_jika_lebih_dari_batas_atas = air_quality_nongzhanguan_df[numeric_columns] > nilai_maximum\n",
    "\n",
    "# membuat teknik imputation\n",
    "air_quality_nongzhanguan_df.mask(kondisi_jika_lebih_dari_batas_atas, nilai_maximum, axis=1, inplace=True)\n"
   ]
  },
  {
   "cell_type": "code",
   "execution_count": 40,
   "metadata": {
    "colab": {
     "base_uri": "https://localhost:8080/",
     "height": 320
    },
    "id": "tp--20isT_AU",
    "outputId": "c891fc7c-0db6-4b8c-93d2-e0402182f875"
   },
   "outputs": [
    {
     "data": {
      "text/html": [
       "<div>\n",
       "<style scoped>\n",
       "    .dataframe tbody tr th:only-of-type {\n",
       "        vertical-align: middle;\n",
       "    }\n",
       "\n",
       "    .dataframe tbody tr th {\n",
       "        vertical-align: top;\n",
       "    }\n",
       "\n",
       "    .dataframe thead th {\n",
       "        text-align: right;\n",
       "    }\n",
       "</style>\n",
       "<table border=\"1\" class=\"dataframe\">\n",
       "  <thead>\n",
       "    <tr style=\"text-align: right;\">\n",
       "      <th></th>\n",
       "      <th>No</th>\n",
       "      <th>year</th>\n",
       "      <th>month</th>\n",
       "      <th>day</th>\n",
       "      <th>hour</th>\n",
       "      <th>PM2.5</th>\n",
       "      <th>PM10</th>\n",
       "      <th>SO2</th>\n",
       "      <th>NO2</th>\n",
       "      <th>CO</th>\n",
       "      <th>O3</th>\n",
       "      <th>TEMP</th>\n",
       "      <th>PRES</th>\n",
       "      <th>DEWP</th>\n",
       "      <th>RAIN</th>\n",
       "      <th>WSPM</th>\n",
       "    </tr>\n",
       "  </thead>\n",
       "  <tbody>\n",
       "    <tr>\n",
       "      <th>count</th>\n",
       "      <td>35064.000000</td>\n",
       "      <td>35064.000000</td>\n",
       "      <td>35064.000000</td>\n",
       "      <td>35064.000000</td>\n",
       "      <td>35064.000000</td>\n",
       "      <td>35064.000000</td>\n",
       "      <td>35064.000000</td>\n",
       "      <td>35064.000000</td>\n",
       "      <td>35064.000000</td>\n",
       "      <td>35064.000000</td>\n",
       "      <td>35064.000000</td>\n",
       "      <td>35064.000000</td>\n",
       "      <td>35064.000000</td>\n",
       "      <td>35064.000000</td>\n",
       "      <td>35064.0</td>\n",
       "      <td>35064.000000</td>\n",
       "    </tr>\n",
       "    <tr>\n",
       "      <th>mean</th>\n",
       "      <td>17532.500000</td>\n",
       "      <td>2014.662560</td>\n",
       "      <td>6.522930</td>\n",
       "      <td>15.729637</td>\n",
       "      <td>11.500000</td>\n",
       "      <td>80.540755</td>\n",
       "      <td>105.506557</td>\n",
       "      <td>16.373258</td>\n",
       "      <td>57.781783</td>\n",
       "      <td>1212.157526</td>\n",
       "      <td>56.780354</td>\n",
       "      <td>13.668250</td>\n",
       "      <td>1012.551871</td>\n",
       "      <td>2.445126</td>\n",
       "      <td>0.0</td>\n",
       "      <td>1.808128</td>\n",
       "    </tr>\n",
       "    <tr>\n",
       "      <th>std</th>\n",
       "      <td>10122.249256</td>\n",
       "      <td>1.177213</td>\n",
       "      <td>3.448752</td>\n",
       "      <td>8.800218</td>\n",
       "      <td>6.922285</td>\n",
       "      <td>71.964422</td>\n",
       "      <td>82.915347</td>\n",
       "      <td>16.798299</td>\n",
       "      <td>35.348078</td>\n",
       "      <td>885.140261</td>\n",
       "      <td>53.444520</td>\n",
       "      <td>11.459735</td>\n",
       "      <td>10.266471</td>\n",
       "      <td>13.811939</td>\n",
       "      <td>0.0</td>\n",
       "      <td>1.118847</td>\n",
       "    </tr>\n",
       "    <tr>\n",
       "      <th>min</th>\n",
       "      <td>1.000000</td>\n",
       "      <td>2013.000000</td>\n",
       "      <td>1.000000</td>\n",
       "      <td>1.000000</td>\n",
       "      <td>0.000000</td>\n",
       "      <td>2.000000</td>\n",
       "      <td>2.000000</td>\n",
       "      <td>0.571200</td>\n",
       "      <td>2.000000</td>\n",
       "      <td>100.000000</td>\n",
       "      <td>0.214200</td>\n",
       "      <td>-16.800000</td>\n",
       "      <td>987.100000</td>\n",
       "      <td>-35.300000</td>\n",
       "      <td>0.0</td>\n",
       "      <td>0.000000</td>\n",
       "    </tr>\n",
       "    <tr>\n",
       "      <th>25%</th>\n",
       "      <td>8766.750000</td>\n",
       "      <td>2014.000000</td>\n",
       "      <td>4.000000</td>\n",
       "      <td>8.000000</td>\n",
       "      <td>5.750000</td>\n",
       "      <td>22.000000</td>\n",
       "      <td>38.000000</td>\n",
       "      <td>3.000000</td>\n",
       "      <td>29.000000</td>\n",
       "      <td>500.000000</td>\n",
       "      <td>10.000000</td>\n",
       "      <td>3.100000</td>\n",
       "      <td>1004.000000</td>\n",
       "      <td>-8.800000</td>\n",
       "      <td>0.0</td>\n",
       "      <td>1.000000</td>\n",
       "    </tr>\n",
       "    <tr>\n",
       "      <th>50%</th>\n",
       "      <td>17532.500000</td>\n",
       "      <td>2015.000000</td>\n",
       "      <td>7.000000</td>\n",
       "      <td>16.000000</td>\n",
       "      <td>11.500000</td>\n",
       "      <td>59.000000</td>\n",
       "      <td>85.000000</td>\n",
       "      <td>9.000000</td>\n",
       "      <td>51.000000</td>\n",
       "      <td>900.000000</td>\n",
       "      <td>45.000000</td>\n",
       "      <td>14.600000</td>\n",
       "      <td>1012.200000</td>\n",
       "      <td>3.000000</td>\n",
       "      <td>0.0</td>\n",
       "      <td>1.500000</td>\n",
       "    </tr>\n",
       "    <tr>\n",
       "      <th>75%</th>\n",
       "      <td>26298.250000</td>\n",
       "      <td>2016.000000</td>\n",
       "      <td>10.000000</td>\n",
       "      <td>23.000000</td>\n",
       "      <td>17.250000</td>\n",
       "      <td>116.000000</td>\n",
       "      <td>149.000000</td>\n",
       "      <td>24.000000</td>\n",
       "      <td>80.000000</td>\n",
       "      <td>1600.000000</td>\n",
       "      <td>83.000000</td>\n",
       "      <td>23.500000</td>\n",
       "      <td>1020.900000</td>\n",
       "      <td>15.000000</td>\n",
       "      <td>0.0</td>\n",
       "      <td>2.400000</td>\n",
       "    </tr>\n",
       "    <tr>\n",
       "      <th>max</th>\n",
       "      <td>35064.000000</td>\n",
       "      <td>2017.000000</td>\n",
       "      <td>12.000000</td>\n",
       "      <td>31.000000</td>\n",
       "      <td>23.000000</td>\n",
       "      <td>257.000000</td>\n",
       "      <td>315.500000</td>\n",
       "      <td>55.500000</td>\n",
       "      <td>156.500000</td>\n",
       "      <td>3250.000000</td>\n",
       "      <td>192.500000</td>\n",
       "      <td>41.100000</td>\n",
       "      <td>1042.000000</td>\n",
       "      <td>28.800000</td>\n",
       "      <td>0.0</td>\n",
       "      <td>4.500000</td>\n",
       "    </tr>\n",
       "  </tbody>\n",
       "</table>\n",
       "</div>"
      ],
      "text/plain": [
       "                 No          year         month           day          hour  \\\n",
       "count  35064.000000  35064.000000  35064.000000  35064.000000  35064.000000   \n",
       "mean   17532.500000   2014.662560      6.522930     15.729637     11.500000   \n",
       "std    10122.249256      1.177213      3.448752      8.800218      6.922285   \n",
       "min        1.000000   2013.000000      1.000000      1.000000      0.000000   \n",
       "25%     8766.750000   2014.000000      4.000000      8.000000      5.750000   \n",
       "50%    17532.500000   2015.000000      7.000000     16.000000     11.500000   \n",
       "75%    26298.250000   2016.000000     10.000000     23.000000     17.250000   \n",
       "max    35064.000000   2017.000000     12.000000     31.000000     23.000000   \n",
       "\n",
       "              PM2.5          PM10           SO2           NO2            CO  \\\n",
       "count  35064.000000  35064.000000  35064.000000  35064.000000  35064.000000   \n",
       "mean      80.540755    105.506557     16.373258     57.781783   1212.157526   \n",
       "std       71.964422     82.915347     16.798299     35.348078    885.140261   \n",
       "min        2.000000      2.000000      0.571200      2.000000    100.000000   \n",
       "25%       22.000000     38.000000      3.000000     29.000000    500.000000   \n",
       "50%       59.000000     85.000000      9.000000     51.000000    900.000000   \n",
       "75%      116.000000    149.000000     24.000000     80.000000   1600.000000   \n",
       "max      257.000000    315.500000     55.500000    156.500000   3250.000000   \n",
       "\n",
       "                 O3          TEMP          PRES          DEWP     RAIN  \\\n",
       "count  35064.000000  35064.000000  35064.000000  35064.000000  35064.0   \n",
       "mean      56.780354     13.668250   1012.551871      2.445126      0.0   \n",
       "std       53.444520     11.459735     10.266471     13.811939      0.0   \n",
       "min        0.214200    -16.800000    987.100000    -35.300000      0.0   \n",
       "25%       10.000000      3.100000   1004.000000     -8.800000      0.0   \n",
       "50%       45.000000     14.600000   1012.200000      3.000000      0.0   \n",
       "75%       83.000000     23.500000   1020.900000     15.000000      0.0   \n",
       "max      192.500000     41.100000   1042.000000     28.800000      0.0   \n",
       "\n",
       "               WSPM  \n",
       "count  35064.000000  \n",
       "mean       1.808128  \n",
       "std        1.118847  \n",
       "min        0.000000  \n",
       "25%        1.000000  \n",
       "50%        1.500000  \n",
       "75%        2.400000  \n",
       "max        4.500000  "
      ]
     },
     "execution_count": 40,
     "metadata": {},
     "output_type": "execute_result"
    }
   ],
   "source": [
    "# max data setelah menggunakan teknik Imputation, nilai menjadi wajar\n",
    "air_quality_nongzhanguan_df.describe()"
   ]
  },
  {
   "cell_type": "code",
   "execution_count": 47,
   "metadata": {},
   "outputs": [],
   "source": [
    "# saving data after cleaning \n",
    "air_quality_nongzhanguan_df.to_csv('./dashboard/main_data.csv')"
   ]
  },
  {
   "cell_type": "markdown",
   "metadata": {
    "id": "Q_5ejIqckiSP"
   },
   "source": [
    "**Insight:**\n",
    "- Permasalahan dari data yang hilang. Saya menggunakan teknik interpolasi, alasannya adalah karena data yang hilang cukup banyak. Jika dihapus maka akan kehilangan banyak informasi. Terlihat setelah data cleaning menggunakan teknik interpolasi. Selain data yang hilang sudah tidak ada, teknik ini tetap menjaga keutuhan data asli.\n",
    "- Permasalahan dari ketidakakuratan value. Saya menggunakan teknik Imputation, alasannya adalah saya ingin tetap menjaga informasi tetap ada dengan mengganti outlier menjadi nilai yang wajar dengan batas atas. Terlihat kolom yang memiliki data outlier. Setelah di data cleaning menggunakan teknik Imputation, max dari data menjadi nilai yang wajar tanpa kehilangan keutuhan data asli."
   ]
  },
  {
   "cell_type": "markdown",
   "metadata": {
    "id": "gp-Y6wU38DC1"
   },
   "source": [
    "## Exploratory Data Analysis (EDA)"
   ]
  },
  {
   "cell_type": "markdown",
   "metadata": {
    "id": "MW7WF2kr8DC1"
   },
   "source": [
    "### Explore ..."
   ]
  },
  {
   "cell_type": "code",
   "execution_count": 41,
   "metadata": {
    "id": "FcQvomuyrVXx"
   },
   "outputs": [],
   "source": [
    "# membuat rata-rata per 1 bulan\n",
    "tren_air_quality = air_quality_nongzhanguan_df.groupby(by=['year', 'month']).agg({\n",
    "    'PM2.5': 'mean',\n",
    "    'PM10': 'mean',\n",
    "    'SO2': 'mean',\n",
    "    'NO2': 'mean',\n",
    "    'CO': 'mean',\n",
    "    'O3': 'mean',\n",
    "    'TEMP': 'mean',\n",
    "    'PRES': 'mean',\n",
    "    'DEWP': 'mean',\n",
    "    'RAIN': 'mean',\n",
    "    'WSPM': 'mean'\n",
    "}).apply(lambda c: c.astype(int)) # menerapkan agar hasil yang aslinya float diubah menjadi int. hal ini agar mudah dalam membaca"
   ]
  },
  {
   "cell_type": "code",
   "execution_count": 42,
   "metadata": {
    "colab": {
     "base_uri": "https://localhost:8080/"
    },
    "id": "2gLZmFKjwHsE",
    "outputId": "3ce9adf7-0b56-4caf-c5b1-51f8df064751"
   },
   "outputs": [
    {
     "name": "stdout",
     "output_type": "stream",
     "text": [
      "            PM2.5  PM10  SO2  NO2    CO   O3  TEMP  PRES  DEWP  RAIN  WSPM\n",
      "year month                                                                \n",
      "2013 3        101   121   33   74  1419   58     6  1014    -7     0     1\n",
      "     4         57    96   21   54   931   62    12  1009    -3     0     2\n",
      "     5         76   128   25   58  1127   81    21  1004     7     0     1\n",
      "     6        104   106   17   52  1502   74    23  1001    17     0     1\n",
      "     7         75    70    8   40  1142   80    27   997    20     0     1\n",
      "     8         68    74    6   49  1026   74    27  1000    20     0     1\n",
      "     9         81    99   13   69  1280   46    20  1010    14     0     1\n",
      "     10        94   110   18   65  1257   25    13  1017     4     0     1\n",
      "     11        80   104   21   60  1286   22     6  1018    -8     0     1\n",
      "     12        80   109   34   65  1422   21     0  1021   -14     0     1\n",
      "2014 1         98   127   41   67  1722   20     0  1021   -13     0     1\n",
      "     2        131   148   42   67  1873   25     0  1024   -10     0     1\n",
      "     3         96   136   31   67  1402   46     9  1015    -6     0     2\n",
      "     4         86   138   19   60   972   70    17  1012     3     0     1\n",
      "     5         67   129   16   55   827   90    21  1003     6     0     2\n",
      "     6         56    86    8   48   886   99    24  1001    15     0     1\n",
      "     7         84   111    7   44  1051  101    28  1000    19     0     1\n",
      "     8         60    87    6   48   955   94    26  1004    17     0     1\n",
      "     9         63    94    8   57  1165   55    20  1010    13     0     1\n",
      "     10       122   159   10   82  1410   26    13  1016     6     0     1\n",
      "     11        96   129   19   78  1458   23     5  1019    -5     0     1\n",
      "     12        71   109   28   64  1350   29    -1  1023   -16     0     2\n",
      "2015 1        100   125   34   76  1706   24    -1  1023   -14     0     1\n",
      "     2         96   119   27   58  1346   41     1  1019   -13     0     2\n",
      "     3         92   135   23   63  1235   49     8  1016    -9     0     2\n",
      "     4         79   113   11   53   837   75    15  1010     1     0     2\n",
      "     5         59    98    9   45   915   92    21  1003     6     0     2\n",
      "     6         63    82    8   43  1025   94    24  1000    14     0     1\n",
      "     7         56    75    5   41   914   99    26  1001    18     0     1\n",
      "     8         41    64    3   34   834   96    26  1003    18     0     1\n",
      "     9         51    63    5   50   876   61    20  1011    13     0     1\n",
      "     10        72    92    7   62  1000   37    14  1015     4     0     1\n",
      "     11       115   123   15   69  1759   17     2  1023    -1     0     1\n",
      "     12       130   144   22   92  2177   19     0  1024    -7     0     1\n",
      "2016 1         66    77   21   60  1350   34    -4  1025   -18     0     2\n",
      "     2         40    50   14   41   871   50     1  1022   -15     0     2\n",
      "     3         87   128   20   67  1162   49     9  1016    -8     0     2\n",
      "     4         72   107   11   51   786   70    16  1007     0     0     2\n",
      "     5         54    81   10   44   673   92    21  1005     6     0     2\n",
      "     6         61    76    5   40   813  105    25  1000    14     0     1\n",
      "     7         71    76    3   39   985   95    27  1000    20     0     1\n",
      "     8         49    59    3   38   925   85    27  1003    19     0     1\n",
      "     9         59    73    4   46   830   60    22  1009    14     0     1\n",
      "     10        86   107    5   52  1238   23    13  1017     7     0     1\n",
      "     11       101   139   12   65  1754   15     4  1020    -3     0     1\n",
      "     12       124   149   19   81  2003   18     0  1023    -9     0     1\n",
      "2017 1        102   123   19   65  1590   30    -1  1025   -12     0     1\n",
      "     2         72    90   18   49  1096   42     2  1022   -13     0     1\n"
     ]
    }
   ],
   "source": [
    "print(tren_air_quality)"
   ]
  },
  {
   "cell_type": "code",
   "execution_count": 43,
   "metadata": {
    "colab": {
     "base_uri": "https://localhost:8080/"
    },
    "id": "e9CQCZjk8DC2",
    "outputId": "02e4b71e-d624-421e-aabb-8f037e906ab9"
   },
   "outputs": [
    {
     "name": "stdout",
     "output_type": "stream",
     "text": [
      "          PM2.5      PM10       SO2       NO2        CO        O3      WSPM\n",
      "PM2.5  1.000000  0.904530  0.573501  0.688713  0.823729 -0.203425 -0.336734\n",
      "PM10   0.904530  1.000000  0.562279  0.693355  0.752145 -0.178201 -0.254711\n",
      "SO2    0.573501  0.562279  1.000000  0.531651  0.635049 -0.212172 -0.168171\n",
      "NO2    0.688713  0.693355  0.531651  1.000000  0.733618 -0.554127 -0.495509\n",
      "CO     0.823729  0.752145  0.635049  0.733618  1.000000 -0.368195 -0.413818\n",
      "O3    -0.203425 -0.178201 -0.212172 -0.554127 -0.368195  1.000000  0.359145\n",
      "WSPM  -0.336734 -0.254711 -0.168171 -0.495509 -0.413818  0.359145  1.000000\n"
     ]
    }
   ],
   "source": [
    "# membuat dataframe lalu dengan data frame tersebut langsung dikorelasikan\n",
    "air_quality_df = pd.DataFrame(air_quality_nongzhanguan_df[numeric_columns])\n",
    "wspm_correlation_pollutants_columns = air_quality_df[['PM2.5', 'PM10', 'SO2', 'NO2', 'CO', 'O3', 'WSPM']].corr()\n",
    "\n",
    "print(wspm_correlation_pollutants_columns)"
   ]
  },
  {
   "cell_type": "markdown",
   "metadata": {
    "id": "th_Lzl2Fkj9O"
   },
   "source": [
    "**Insight:**\n",
    "- Mencari tren menggunakan groupby dan pivot. Lalu setelah itu membuat argumen ke semua kolom numerik untuk mencari rata - rata polutan per 1 bulan. Dengan hasil yang dikonversikan dari float ke int menggunakan lambda, agar lebih mudah dipahami dan dibaca.  \n",
    "- Mencari korelasi antara WSPD dengan polutan utama seperti PM2.5, PM10, SO2, CO, dan O3."
   ]
  },
  {
   "cell_type": "markdown",
   "metadata": {
    "id": "zsyZjqak8DC2"
   },
   "source": [
    "## Visualization & Explanatory Analysis"
   ]
  },
  {
   "cell_type": "markdown",
   "metadata": {
    "id": "HZxOiQ6n8DC2"
   },
   "source": [
    "### Pertanyaan 1:"
   ]
  },
  {
   "cell_type": "code",
   "execution_count": 44,
   "metadata": {
    "colab": {
     "base_uri": "https://localhost:8080/",
     "height": 574
    },
    "id": "z5VDbpWfHmBh",
    "outputId": "74d4c967-7196-4964-e2ab-527f77ab0971"
   },
   "outputs": [
    {
     "data": {
      "image/png": "[encoded data removed]",
      "text/plain": [
       "<Figure size 800x600 with 1 Axes>"
      ]
     },
     "metadata": {},
     "output_type": "display_data"
    }
   ],
   "source": [
    "# membuat klasidikasi yang termasuk dengan polutan utama\n",
    "main_pollutants = ['PM2.5', 'PM10', 'SO2', 'NO2', 'CO', 'O3']\n",
    "\n",
    "plt.figure(figsize=(8, 6))\n",
    "for pollutant in main_pollutants:\n",
    "    sb.lineplot(tren_air_quality, x='year', y=pollutant, label=pollutant)\n",
    "plt.xticks(rotation=50)\n",
    "plt.legend(loc='upper right')\n",
    "plt.xlabel('Year - Month')\n",
    "plt.ylabel('Micrometer/meter^3')\n",
    "plt.grid(True)\n",
    "plt.show()"
   ]
  },
  {
   "cell_type": "code",
   "execution_count": 45,
   "metadata": {
    "colab": {
     "base_uri": "https://localhost:8080/",
     "height": 497
    },
    "id": "IPWZSY6DR0wh",
    "outputId": "e46406b5-ab6c-4c65-e740-63d32c84c32e"
   },
   "outputs": [
    {
     "data": {
      "image/png": "[encoded data removed]",
      "text/plain": [
       "<Figure size 800x500 with 1 Axes>"
      ]
     },
     "metadata": {},
     "output_type": "display_data"
    }
   ],
   "source": [
    "# membuat klasifikasi yang tidak termasuk polutan utama\n",
    "other_pollutants = ['TEMP', 'PRES', 'DEWP', 'RAIN', 'WSPM']\n",
    "\n",
    "plt.figure(figsize=(8, 5))\n",
    "for pollutant in other_pollutants:\n",
    "    sb.lineplot(tren_air_quality, x='year', y=pollutant, label=pollutant)\n",
    "plt.xticks(rotation=50)\n",
    "plt.legend(loc='upper right')\n",
    "plt.xlabel('Year - Month')\n",
    "plt.ylabel('Micrometer/meter^3')\n",
    "plt.grid(True)\n",
    "plt.show()"
   ]
  },
  {
   "cell_type": "markdown",
   "metadata": {
    "id": "PkMolhcoHmkl"
   },
   "source": [
    "**Insight:**\n",
    "- Plot garis yang pertama yaitu polutan utama, dengan ditampilkan label x yaitu tahun dan per setengah tahun (6 bulan) dan ditampilkan label y yaitu parameter mikrometer/meter^3. Dari isi plot garis, terlihat bahwa CO memiliki ukuran yang besar dikarenakan parameter dari CO sendiri adalah hasil pengkonversian miligram/m^3, sehingga jika dikonversi ke mikrometer/m^3 menjadi dikali 1000. Selain itu juga jika dilihat secara garis besar, tidak ada peningkatan secara signifikan dari tahun 2013 sampai tahun 2017.\n",
    "- Plot garis kedua yaitu polutan lainnya, dengan tampilannya yang sama dengan plot garis kesatu. Yang membedakan adalah isi plot garisnya, PRES memiliki ukuran yang besar namun itu masih dalam batas normal. Sama seperti lainnya, tidak ada perbedaan signifikan dari perubahan polusi udara."
   ]
  },
  {
   "cell_type": "markdown",
   "metadata": {
    "id": "DgHI7CiU8DC2"
   },
   "source": [
    "### Pertanyaan 2:"
   ]
  },
  {
   "cell_type": "code",
   "execution_count": 46,
   "metadata": {
    "colab": {
     "base_uri": "https://localhost:8080/",
     "height": 807
    },
    "id": "Go0lCsvO8DC2",
    "outputId": "24dda287-074e-4eac-bf3a-f57e13d16135"
   },
   "outputs": [
    {
     "data": {
      "image/png": "[encoded data removed]",
      "text/plain": [
       "<Figure size 1200x800 with 2 Axes>"
      ]
     },
     "metadata": {},
     "output_type": "display_data"
    }
   ],
   "source": [
    "# mengubah nama dari correlation wspm\n",
    "correlations = wspm_correlation_pollutants_columns\n",
    "\n",
    "plt.figure(figsize=(12, 8))\n",
    "sb.heatmap(correlations, cmap='coolwarm')\n",
    "plt.tight_layout()\n",
    "plt.show()"
   ]
  },
  {
   "cell_type": "markdown",
   "metadata": {
    "id": "_0-36BDLklRg"
   },
   "source": [
    "**Insight:**\n",
    "- Dapat mengetahui dengan warna semakin merah, maka menunjukkan positif yang berarti sama atau berhubungan. Terlihat seperti di plot heatmap, PM2.5 dan PM10 memiliki warna yang hampir sama. Ini disebabkan karena 2 unsur ini mempunyai kemiripan yang membedakan hanyalah ukuran.\n",
    "- Dapat mengetahui dengan warna semakin biru, maka menunjukkan negatif yang berarti tidak sama atau tidak ada hubungannya. Terlihat seperti O3 karena 03 hanya mengandung fotokimia, sedangkan WSPM dapat mengurangi intensitas PM2.5 dan PM10."
   ]
  },
  {
   "cell_type": "markdown",
   "metadata": {
    "id": "9y4VUsmcYNZ5"
   },
   "source": [
    "## Analisis Lanjutan (Opsional)"
   ]
  },
  {
   "cell_type": "code",
   "execution_count": null,
   "metadata": {
    "id": "iWhnzsJGYUCO"
   },
   "outputs": [],
   "source": []
  },
  {
   "cell_type": "markdown",
   "metadata": {
    "id": "_WeHlCeX8DC2"
   },
   "source": [
    "## Conclusion"
   ]
  },
  {
   "cell_type": "markdown",
   "metadata": {
    "id": "ZTcyR48Y8DC2"
   },
   "source": [
    "- Dari penilitian ini, bisa disimpulkan bahwa pertanyaan kesatu jawabannya adalah tidak ada perbedaan signifikan secara garis besar. Dan rata-rata masih dalam batas normal.\n",
    "- Untuk pertanyaan kedua yaitu korelasi kecepatan angin dengan polutan utama seperti PM2.5, PM10, SO2, CO, menunjukkan positif atau berhubungan. Hal ini berarti bahwa kecepatan angin mempengaruhi polutan udara, semakin kencang anginnya makan semakin rendah pula polutannya. Sebaliknya jika dikorelasikan dengan O3, menunjukkan bahwa sama-sama negatif dengan WSPM menandakan bahwa kecepatan angin tidak terpengaruh dengan O3."
   ]
  }
 ],
 "metadata": {
  "colab": {
   "provenance": []
  },
  "kernelspec": {
   "display_name": "usr",
   "language": "python",
   "name": "python3"
  },
  "language_info": {
   "codemirror_mode": {
    "name": "ipython",
    "version": 3
   },
   "file_extension": ".py",
   "mimetype": "text/x-python",
   "name": "python",
   "nbconvert_exporter": "python",
   "pygments_lexer": "ipython3",
   "version": "3.10.16"
  }
 },
 "nbformat": 4,
 "nbformat_minor": 4
}
